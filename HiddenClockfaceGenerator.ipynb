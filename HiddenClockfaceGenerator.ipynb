{
 "cells": [
  {
   "cell_type": "markdown",
   "id": "d1cab324-bedf-4271-9f39-d45cd9e3ef1d",
   "metadata": {},
   "source": [
    "# Hidden Clockface Generator\n",
    "\n",
    "This notebook builds a 3D model for a NeoPixel Ring clockface light diffuser\n",
    "\n",
    "## Dependencies\n",
    "* [OpenSCAD](https://openscad.org/)\n",
    "* [solidpython](https://github.com/SolidCode/SolidPython)\n",
    "* [viewscad](https://github.com/nickc92/ViewSCAD)"
   ]
  },
  {
   "cell_type": "markdown",
   "id": "b0fdde9f-832d-4aef-b17a-3dcbd999294f",
   "metadata": {},
   "source": [
    "Let's import our dependencies"
   ]
  },
  {
   "cell_type": "code",
   "execution_count": 1,
   "id": "57e5d151-4a00-4174-8a45-4c484952f68f",
   "metadata": {},
   "outputs": [],
   "source": [
    "import solid as s\n",
    "import viewscad"
   ]
  },
  {
   "cell_type": "markdown",
   "id": "5c03c04a-f390-4582-ac26-e896f17d5ff8",
   "metadata": {},
   "source": [
    "And initialize the viewscad renderer"
   ]
  },
  {
   "cell_type": "code",
   "execution_count": 2,
   "id": "2fac5959-3c3b-4705-9531-e918bc82d6cb",
   "metadata": {},
   "outputs": [],
   "source": [
    "r = viewscad.Renderer()"
   ]
  },
  {
   "cell_type": "markdown",
   "id": "09072fa9-9fea-4b03-95e2-c0d06b20761e",
   "metadata": {},
   "source": [
    "It's a commonly known requirment of baking apple pies that you must first define the universe, and a clockface is no different. This clockface definition builds off of 4 constants, defined below in millimeters."
   ]
  },
  {
   "cell_type": "code",
   "execution_count": 3,
   "id": "a21c48d6-ed35-494c-8363-f9ce105f7657",
   "metadata": {},
   "outputs": [],
   "source": [
    "base_radius = 7.5    # Radius of the Individual Number Faces\n",
    "num_height = 2       # Height of the number in the Number Face\n",
    "shade_height = 1.5   # Thickness of the difuser\n",
    "clock_height = 5     # Total Height/thickness of the clockface"
   ]
  },
  {
   "cell_type": "markdown",
   "id": "d2929b6a-5296-48f9-b8bf-49bbe2d27c51",
   "metadata": {},
   "source": [
    "The next 7 variables are simply derived from the initial constants"
   ]
  },
  {
   "cell_type": "code",
   "execution_count": 4,
   "id": "84dfc6fe-4a37-4e94-9e1b-a4d451ca8189",
   "metadata": {},
   "outputs": [],
   "source": [
    "hex_height = clock_height + 2           # Height of the number foace; has to be larger than the clock to make an opening through the base clockface shape\n",
    "inner_radius = base_radius * 3          # Defines the radius of the donut hole in the clockface\n",
    "between = base_radius * 2               # Defines the distance between inner and outer radii of the clockface\n",
    "outer_radius = inner_radius + between   # Defines the total radius of the clockface, from center to edge\n",
    "number_font_size = base_radius * 0.8    # Defines the font size of the number face\n",
    "number_center_x_shift = number_font_size / 1.2\n",
    "number_center_y_shift = -(base_radius * 0.8) / 2"
   ]
  },
  {
   "cell_type": "code",
   "execution_count": 5,
   "id": "4a0d4711-24f5-415f-9a5e-3fcfd7d0880c",
   "metadata": {},
   "outputs": [],
   "source": [
    "def build_face():\n",
    "    return s.rotate([0, 0, 90])(s.cylinder(r=base_radius, h=hex_height, segments=6))"
   ]
  },
  {
   "cell_type": "code",
   "execution_count": 6,
   "id": "91597251-2563-4300-a2b9-392dee675fc0",
   "metadata": {},
   "outputs": [],
   "source": [
    "def build_number_face(number):\n",
    "    extruded_number = s.linear_extrude(num_height)(s.text(f\"{number:2}\", size=number_font_size))\n",
    "    return s.rotate([0, 0, -90])(build_face() - s.translate([number_center_shift, number_center_y_shift, 0])(s.mirror([1, 0, 0])(extruded_number)))"
   ]
  },
  {
   "cell_type": "code",
   "execution_count": 7,
   "id": "ca684d32-142a-455a-a7dd-1770f4d9fcd7",
   "metadata": {},
   "outputs": [],
   "source": [
    "faces = sum([\n",
    "    s.rotate([0, 0, i * -30])(\n",
    "        s.translate([4 * base_radius, 0, 0])(s.rotate([0, 0, i * 30])(\n",
    "            build_number_face(i)))) for i in range(12, 0, 1)])"
   ]
  },
  {
   "cell_type": "code",
   "execution_count": 8,
   "id": "0296863c-bb49-494e-b00b-33e01f6c9869",
   "metadata": {},
   "outputs": [],
   "source": [
    "base = s.rotate_extrude(segments=256)(s.translate([inner_radius, 0, 0])(s.hull()(\n",
    "    s.circle(r=clock_height / 4) +\n",
    "    s.translate([between, 0, 0])(s.circle(r=clock_height / 4)) +\n",
    "    s.translate([between, clock_height, 0])(s.circle(r=clock_height / 3)) +\n",
    "    s.translate([0, clock_height, 0])(s.circle(r=clock_height / 3)))))"
   ]
  },
  {
   "cell_type": "code",
   "execution_count": 9,
   "id": "162096b4-e441-4703-905c-8597b2fe6635",
   "metadata": {},
   "outputs": [
    {
     "name": "stderr",
     "output_type": "stream",
     "text": [
      "Geometries in cache: 10\n",
      "Geometry cache size in bytes: 19215504\n",
      "CGAL Polyhedrons in cache: 0\n",
      "CGAL cache size in bytes: 0\n",
      "Total rendering time: 0:00:00.022\n",
      "   Top level object is a 3D object:\n",
      "   Facets:     133120\n"
     ]
    },
    {
     "data": {
      "application/vnd.jupyter.widget-view+json": {
       "model_id": "6f6f7b0908e048d790df50afeacd8db0",
       "version_major": 2,
       "version_minor": 0
      },
      "text/plain": [
       "VBox(children=(HTML(value=''), Renderer(background='#cccc88', background_opacity=0.0, camera=PerspectiveCamera…"
      ]
     },
     "metadata": {},
     "output_type": "display_data"
    }
   ],
   "source": [
    "clock = base - s.translate([0, 0, shade_height])(faces)\n",
    "\n",
    "r.render(base - faces, outfile=\"HiddenClockface.stl\")"
   ]
  },
  {
   "cell_type": "markdown",
   "id": "1ff1b6f8-1502-48b4-928e-c9340c629df2",
   "metadata": {},
   "source": []
  }
 ],
 "metadata": {
  "kernelspec": {
   "display_name": "Python 3 (ipykernel)",
   "language": "python",
   "name": "python3"
  },
  "language_info": {
   "codemirror_mode": {
    "name": "ipython",
    "version": 3
   },
   "file_extension": ".py",
   "mimetype": "text/x-python",
   "name": "python",
   "nbconvert_exporter": "python",
   "pygments_lexer": "ipython3",
   "version": "3.10.12"
  }
 },
 "nbformat": 4,
 "nbformat_minor": 5
}
