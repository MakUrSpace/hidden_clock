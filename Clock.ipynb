{
 "cells": [
  {
   "cell_type": "markdown",
   "id": "345b2c29-1ef8-4362-86e8-dba8d3deac52",
   "metadata": {},
   "source": [
    "# Clock Firmware\n",
    "\n",
    "Micropython Clock Firmware for a [Adafruit QT Py ESP32-C3](https://www.adafruit.com/product/5405)\n",
    "\n",
    "![QT Py ESP32-C3](https://cdn-shop.adafruit.com/970x728/5405-06.jpg)"
   ]
  },
  {
   "cell_type": "code",
   "execution_count": null,
   "id": "0ce2333a-68a6-4b88-8523-85d64c910f29",
   "metadata": {},
   "outputs": [],
   "source": [
    "from machine import Pin\n",
    "from neopixel import NeoPixel\n",
    "from time import sleep, localtime"
   ]
  },
  {
   "cell_type": "markdown",
   "id": "a7b88975-cbad-4d65-95da-b2f10db12099",
   "metadata": {},
   "source": [
    "Define NeoPixel driving pin and object"
   ]
  },
  {
   "cell_type": "code",
   "execution_count": null,
   "id": "13f59f17-ead1-4b06-953d-6f178ea19d64",
   "metadata": {},
   "outputs": [],
   "source": [
    "neopin = Pin(7, Pin.OUT)\n",
    "np = NeoPixel(neopin, 24)"
   ]
  },
  {
   "cell_type": "markdown",
   "id": "4f6c4476-d858-4bee-8733-5371f59bcb9f",
   "metadata": {},
   "source": [
    "Define GPIO Input pin for the QT Py's pushbutton"
   ]
  },
  {
   "cell_type": "code",
   "execution_count": null,
   "id": "67973141-052f-4e1a-8778-20bb6d268119",
   "metadata": {},
   "outputs": [],
   "source": [
    "gpiopin = Pin(9, Pin.IN)"
   ]
  },
  {
   "cell_type": "markdown",
   "id": "936bbf12-e9bd-474d-b9ca-52ae94554b27",
   "metadata": {},
   "source": [
    "Define globals for internal clock configuration. These are set by the button interrupt, stored in onboard files, and used to adjust the clock display to the desired time."
   ]
  },
  {
   "cell_type": "code",
   "execution_count": null,
   "id": "653f4b8b-6a97-47fc-9e8d-2d025b91d180",
   "metadata": {},
   "outputs": [],
   "source": [
    "hour_modifier = 0\n",
    "minute_modifier = 0\n",
    "modified = False"
   ]
  },
  {
   "cell_type": "markdown",
   "id": "87dfc9d8-6ab3-45ca-9cc0-36b81d54aace",
   "metadata": {},
   "source": [
    "Defines button press interrupt that interprets a short press (sub 200 milliseconds) as a minute display modification and a long press as an hour display modification."
   ]
  },
  {
   "cell_type": "code",
   "execution_count": null,
   "id": "698bb5e1-a02a-4ee8-a059-35cd3fe65583",
   "metadata": {},
   "outputs": [],
   "source": [
    "def button_pressed(change):\n",
    "    global hour_modifier, minute_modifier, modified\n",
    "    modified = True\n",
    "    gpiopin.irq(handler=None)\n",
    "    sleep(0.2)\n",
    "    if gpiopin.value() == 1:\n",
    "        minute_modifier = (minute_modifier + 3) % 60\n",
    "    else:\n",
    "        hour_modifier = (hour_modifier + 1) % 12\n",
    "    gpiopin.irq(trigger=Pin.IRQ_FALLING, handler=button_pressed)\n",
    "\n",
    "gpiopin.irq(trigger=Pin.IRQ_FALLING, handler=button_pressed)"
   ]
  },
  {
   "cell_type": "markdown",
   "id": "8e1a65b0-976e-47ad-8aa3-bbcf8a147e80",
   "metadata": {},
   "source": [
    "Defines functions for storing clock display modifiers. If `read_modifiers` fails to open the `modifiers` file, it will panic and create new modifiers with the default 0."
   ]
  },
  {
   "cell_type": "code",
   "execution_count": null,
   "id": "3d64298a-f83f-46e4-ba4e-08cedfb68f02",
   "metadata": {},
   "outputs": [],
   "source": [
    "def write_modifiers():\n",
    "    global modified\n",
    "    modified = False\n",
    "    with open(\"modifiers\", \"w\") as f:\n",
    "        f.write(\"{};{}\".format(hour_modifier, minute_modifier))\n",
    "\n",
    "def read_modifiers():\n",
    "    global hour_modifier, minute_modifier, modified\n",
    "    try:\n",
    "        with open(\"modifiers\", \"r\") as f:\n",
    "            hour_modifier, minute_modifier = [int(m) for m in f.read().split(\";\")]\n",
    "    except OSError as e:\n",
    "        hour_modifier = 0\n",
    "        minute_modifier = 0\n",
    "        modified = True"
   ]
  },
  {
   "cell_type": "markdown",
   "id": "f759fee1-fd67-4c97-be88-4f3a151b5e3c",
   "metadata": {},
   "source": [
    "Utility function to tunr off all lights on the neopixel ring"
   ]
  },
  {
   "cell_type": "code",
   "execution_count": null,
   "id": "e2730680-425b-48ec-b44c-a317586a9b64",
   "metadata": {},
   "outputs": [],
   "source": [
    "def clear_lights():\n",
    "    for i in range(24):\n",
    "        np[i] = (0, 0, 0)"
   ]
  },
  {
   "cell_type": "markdown",
   "id": "a70c455f-3dd6-4393-9829-16a730e65688",
   "metadata": {},
   "source": [
    "Defines the shades to use for the minute and hour hands. While the NeoPixels can display a full RGB array of colors, most diffusers limit the usable range. Green PLA and wood limit green and blue light, but really shine with red.\n",
    "\n",
    "For my target green PLA clockface material, these values work out to a white shade for the hour hand and a red shade for the minute hand."
   ]
  },
  {
   "cell_type": "code",
   "execution_count": 2,
   "id": "6b655ac0-fe1e-49cc-9f8b-2fefc3a08349",
   "metadata": {},
   "outputs": [],
   "source": [
    "minute_shade = (45, 10, 0)\n",
    "hour_shade = (60, 15, 15)"
   ]
  },
  {
   "cell_type": "markdown",
   "id": "56d6b21e-b089-448a-84f3-1078bcde5362",
   "metadata": {},
   "source": [
    "Function to set the NeoPixel LEDs in sync with the time. By initialing calling `clear_lights`, all pixels are set to off (`(0, 0, 0)`). The time is retrieved from a call to the `time.localtime` function. The hour and minute values are extracted from the `localtime` list. The values are converted to corresponding NeoPixel indices adjusted by the user-set modifiers."
   ]
  },
  {
   "cell_type": "code",
   "execution_count": null,
   "id": "299d87d0-3651-4fe0-a568-84b9651e5685",
   "metadata": {},
   "outputs": [],
   "source": [
    "def set_lights():\n",
    "    clear_lights()\n",
    "    timestamp = localtime()\n",
    "    print(\"{}:{:02}\".format(timestamp[3], timestamp[4]))\n",
    "    hour = ((timestamp[3] + hour_modifier) % 12) * 2\n",
    "    minute = (int((timestamp[4] + minute_modifier) / 5) * 2) % 24\n",
    "    print(\"H:{} M:{} -- ({};{})\".format(hour, minute, hour_modifier, minute_modifier))\n",
    "    np[minute] = minute_shade\n",
    "    np[hour] = hour_shade"
   ]
  },
  {
   "cell_type": "markdown",
   "id": "5cd2d588-80ae-4689-8a3d-621f4e0d8261",
   "metadata": {},
   "source": [
    "The clock's main function with an infinite loop, updating the NeoPixel ring every second."
   ]
  },
  {
   "cell_type": "code",
   "execution_count": null,
   "id": "48e7b0cf-b24e-4e03-8ee2-26eee58829b5",
   "metadata": {},
   "outputs": [],
   "source": [
    "def clock():\n",
    "    read_modifiers()\n",
    "    clear_lights()\n",
    "    np.write()\n",
    "    while True:\n",
    "        set_lights()\n",
    "        np.write()\n",
    "        sleep(1)\n",
    "        if modified:\n",
    "            write_modifiers()"
   ]
  },
  {
   "cell_type": "code",
   "execution_count": null,
   "id": "615713e4-8a4f-4725-9a6b-4988d8bac43a",
   "metadata": {},
   "outputs": [],
   "source": [
    "if __name__ == \"__main__\":\n",
    "    clock()"
   ]
  }
 ],
 "metadata": {
  "kernelspec": {
   "display_name": "Python 3 (ipykernel)",
   "language": "python",
   "name": "python3"
  },
  "language_info": {
   "codemirror_mode": {
    "name": "ipython",
    "version": 3
   },
   "file_extension": ".py",
   "mimetype": "text/x-python",
   "name": "python",
   "nbconvert_exporter": "python",
   "pygments_lexer": "ipython3",
   "version": "3.10.12"
  }
 },
 "nbformat": 4,
 "nbformat_minor": 5
}
